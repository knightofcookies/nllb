{
 "cells": [
  {
   "cell_type": "code",
   "execution_count": 2,
   "metadata": {},
   "outputs": [],
   "source": [
    "from transformers import AutoModelForSeq2SeqLM, AutoTokenizer\n",
    "\n",
    "model_name = \"./saved_model/fine_tuned_nllb\"\n",
    "tokenizer = AutoTokenizer.from_pretrained(model_name, src_lang=\"vie_Latn\")\n",
    "model = AutoModelForSeq2SeqLM.from_pretrained(model_name)"
   ]
  },
  {
   "cell_type": "code",
   "execution_count": 3,
   "metadata": {},
   "outputs": [
    {
     "name": "stderr",
     "output_type": "stream",
     "text": [
      "model.safetensors: 100%|██████████| 2.46G/2.46G [01:52<00:00, 21.8MB/s]   \n"
     ]
    },
    {
     "data": {
      "text/plain": [
       "CommitInfo(commit_url='https://huggingface.co/ahlad/nllb-600M-finetune-en-kha/commit/cd8a6d056114ff144625a875218cf05ba29995ca', commit_message='Upload M2M100ForConditionalGeneration', commit_description='', oid='cd8a6d056114ff144625a875218cf05ba29995ca', pr_url=None, repo_url=RepoUrl('https://huggingface.co/ahlad/nllb-600M-finetune-en-kha', endpoint='https://huggingface.co', repo_type='model', repo_id='ahlad/nllb-600M-finetune-en-kha'), pr_revision=None, pr_num=None)"
      ]
     },
     "execution_count": 3,
     "metadata": {},
     "output_type": "execute_result"
    }
   ],
   "source": [
    "model.push_to_hub(\"ahlad/nllb-600M-finetune-en-kha\")"
   ]
  },
  {
   "cell_type": "code",
   "execution_count": 4,
   "metadata": {},
   "outputs": [
    {
     "name": "stdout",
     "output_type": "stream",
     "text": [
      "Good evening sir . I have completed the task correctly .\n"
     ]
    }
   ],
   "source": [
    "article = \"Khublei janmiet sir . Nga la pyndep hok ia ka kam .\"\n",
    "inputs = tokenizer(article, return_tensors=\"pt\")\n",
    "\n",
    "translated_tokens = model.generate(\n",
    "    **inputs, forced_bos_token_id=tokenizer.convert_tokens_to_ids(\"eng_Latn\"), max_length=30\n",
    ")\n",
    "print(tokenizer.batch_decode(translated_tokens, skip_special_tokens=True)[0])"
   ]
  }
 ],
 "metadata": {
  "kernelspec": {
   "display_name": ".venv",
   "language": "python",
   "name": "python3"
  },
  "language_info": {
   "codemirror_mode": {
    "name": "ipython",
    "version": 3
   },
   "file_extension": ".py",
   "mimetype": "text/x-python",
   "name": "python",
   "nbconvert_exporter": "python",
   "pygments_lexer": "ipython3",
   "version": "3.8.17"
  }
 },
 "nbformat": 4,
 "nbformat_minor": 2
}
